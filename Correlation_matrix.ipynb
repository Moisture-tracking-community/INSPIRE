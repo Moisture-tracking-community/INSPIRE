{
 "cells": [
  {
   "cell_type": "code",
   "execution_count": 1,
   "id": "2cb694e1-8d25-4454-bd73-1c0eb949a2bc",
   "metadata": {
    "tags": []
   },
   "outputs": [],
   "source": [
    "#### Necessary libraries ####\n",
    "import numpy as np              # Numpy is the fundamental package for scientific computing in Python.\n",
    "import matplotlib.pyplot as plt # Matplotlib is a scientific plotting package.\n",
    "import matplotlib.gridspec as gridspec\n",
    "import pandas as pd\n",
    "from combine_data import read_data\n",
    "\n",
    "# The statement below enforces the plots to be put into this notebook, instead of in their own windows.\n",
    "%matplotlib inline"
   ]
  },
  {
   "cell_type": "code",
   "execution_count": 10,
   "id": "38a49093-35a9-4ad2-b913-b1d85377ca20",
   "metadata": {
    "tags": []
   },
   "outputs": [],
   "source": [
    "basedir = './'\n",
    "figure_path= \"./Figures/\"\n",
    "\n",
    "casenames = ['Pakistan', 'Australia', 'Scotland']\n",
    "exclude = ['WRF-WVT']"
   ]
  },
  {
   "cell_type": "code",
   "execution_count": null,
   "id": "1a69a121-bcf2-4799-bd9b-7d79eb01ec0e",
   "metadata": {
    "tags": []
   },
   "outputs": [
    {
     "name": "stdout",
     "output_type": "stream",
     "text": [
      "Loading wam2layers data for Pakistan\n",
      "Loading 2ldrm data for Pakistan\n",
      "Loading utrack data for Pakistan\n",
      "Loading btrims data for Pakistan\n",
      "Loading tracmass data for Pakistan\n",
      "Loading ughent data for Pakistan\n",
      "Loading UIB data for Pakistan\n",
      "Loading UniVie data for Pakistan\n",
      "Loading CHc data for Pakistan\n",
      "Loading xu data for Pakistan\n",
      "Loading tatfancheng data for Pakistan\n",
      "Loading uvigo data for Pakistan\n",
      "Loading WRF-WVT data for Pakistan\n",
      "WAM2layers\n",
      "2LDRM\n",
      "UTrack Ens1\n",
      "UTrack Ens2\n",
      "UTrack Ens3\n",
      "UTrack Ens4\n",
      "UTrack Ens5\n",
      "B-TrIMS\n",
      "TRACMASS\n",
      "FLEXPART-HAMSTER Ens1\n",
      "FLEXPART-HAMSTER Ens2\n",
      "FLEXPART-HAMSTER Ens3\n",
      "FLEXPART-HAMSTER Ens4\n",
      "FLEXPART-HAMSTER Ens5\n",
      "FLEXPART-WaterSip (UiB)\n",
      "FLEXPART-WaterSip (UniVie)\n",
      "LAGRANTO-WaterSip (CHc)\n",
      "FLEXPART-WaterSip (Xu)\n",
      "FLEXPART-WaterSip (TFC) Ens1\n",
      "FLEXPART-WaterSip (TFC) Ens2\n",
      "FLEXPART-WaterSip (TFC) Ens3\n",
      "FLEXPART-LATTIN (UVigo)\n",
      "FLEXPART-Stohl (UVigo)\n",
      "mean\n"
     ]
    }
   ],
   "source": [
    "sel_maps = {}\n",
    "corr_matrix = {}\n",
    "for casename in casenames:\n",
    "    all_maps = read_data(basedir, casename)\n",
    "\n",
    "    sel_maps[casename] = all_maps.drop_vars(exclude)\n",
    "\n",
    "    # multi-model mean\n",
    "    map_array = sel_maps[casename].to_array()\n",
    "    sel_maps[casename]['mean'] = map_array.mean(dim='variable', skipna=True)\n",
    "\n",
    "    corr_dict = {}\n",
    "    for i, (name1, dataset1) in enumerate(sel_maps[casename].data_vars.items()):\n",
    "        print(name1)\n",
    "        corr_dict[name1] = {}\n",
    "        for j, (name2, dataset2) in enumerate(sel_maps[casename].data_vars.items()):\n",
    "            nanind = ~np.isnan(dataset1.values) & ~np.isnan(dataset2.values)\n",
    "            corr_dict[name1][name2] = np.corrcoef(dataset1.values[nanind], dataset2.values[nanind])[1,0]\n",
    "\n",
    "    corr_matrix[casename] = pd.DataFrame(corr_dict)"
   ]
  },
  {
   "cell_type": "code",
   "execution_count": null,
   "id": "c03453f4-99ec-4f7d-bb02-89ac049e44d8",
   "metadata": {
    "tags": []
   },
   "outputs": [],
   "source": [
    "plt.close()\n",
    "fig = plt.figure(figsize=(25,7))\n",
    "fig.patch.set_facecolor('white')\n",
    "gs = gridspec.GridSpec(1, 4, width_ratios=[20,20,20,1])\n",
    "letters = ['(a)', '(b)', '(c)']\n",
    "\n",
    "for i,casename in enumerate(casenames):\n",
    "    ax = fig.add_subplot(gs[0,i])\n",
    "    corr_matrix_sel = corr_matrix[casename].drop(index='mean', columns='mean')\n",
    "    plt.imshow(corr_matrix_sel, vmin=0.3, vmax=1, cmap='Blues')\n",
    "    plt.xticks(np.arange(len(corr_matrix_sel.columns)))\n",
    "    plt.yticks(np.arange(len(corr_matrix_sel.index)))\n",
    "    ax.set_xticklabels(corr_matrix_sel.columns, rotation=90)\n",
    "    if i == 0:\n",
    "        ax.set_yticklabels(corr_matrix_sel.index)\n",
    "    else:\n",
    "        ax.set_yticks([])\n",
    "    ax.xaxis.tick_top()\n",
    "    plt.text(0, 1.4, f'{letters[i]} {casenames[i]}', transform=ax.transAxes, va='top', ha='left', fontsize=15)\n",
    "cax = fig.add_subplot(gs[0,-1])\n",
    "plt.colorbar(ax=ax, cax=cax, label='Pearson correlation coefficient')\n",
    "plt.savefig(f'{figure_path}Figure6_CorrelationMatrix.png', bbox_inches='tight', dpi=300)"
   ]
  },
  {
   "cell_type": "code",
   "execution_count": null,
   "id": "e803e525-30d5-4394-8eef-65bcf752bf57",
   "metadata": {
    "tags": []
   },
   "outputs": [],
   "source": [
    "# Sorted with respect to multimodel mean (just for interpretation)\n",
    "plt.close()\n",
    "fig = plt.figure(figsize=(28,7))\n",
    "fig.patch.set_facecolor('white')\n",
    "gs = gridspec.GridSpec(1, 6, width_ratios=[20,4,20,4,20,1])\n",
    "letters = ['(a)', '(b)', '(c)']\n",
    "\n",
    "for i,casename in enumerate(casenames):\n",
    "    ax = fig.add_subplot(gs[0,2*i])\n",
    "    corr_matrix_sorted = corr_matrix[casename].sort_values(by='mean', axis=0, ascending=False) # sort rows\n",
    "    corr_matrix_sorted = corr_matrix_sorted[corr_matrix_sorted.index] # sort columns\n",
    "    plt.imshow(corr_matrix_sorted, vmin=0.3, vmax=1, cmap='Blues')\n",
    "    plt.xticks(np.arange(len(corr_matrix_sorted.columns)))\n",
    "    plt.yticks(np.arange(len(corr_matrix_sorted.index)))\n",
    "    ax.set_xticklabels(corr_matrix_sorted.columns, rotation=90)\n",
    "    ax.set_yticklabels(corr_matrix_sorted.index)\n",
    "    ax.xaxis.tick_top()\n",
    "    plt.text(0, 1.5, f'{letters[i]} {casenames[i]}', transform=ax.transAxes, va='top', ha='left', fontsize=15)\n",
    "cax = fig.add_subplot(gs[0,-1])\n",
    "plt.colorbar(ax=ax, cax=cax, label='Pearson correlation coefficient')\n",
    "plt.savefig(f'{figure_path}Figure6_CorrelationMatrix_sorted.png', bbox_inches='tight', dpi=300)"
   ]
  },
  {
   "cell_type": "code",
   "execution_count": null,
   "id": "237de3dd-c78d-482b-a2ca-d1dfb5331697",
   "metadata": {},
   "outputs": [],
   "source": []
  }
 ],
 "metadata": {
  "kernelspec": {
   "display_name": "wam2layer",
   "language": "python",
   "name": "wam2layer"
  },
  "language_info": {
   "codemirror_mode": {
    "name": "ipython",
    "version": 3
   },
   "file_extension": ".py",
   "mimetype": "text/x-python",
   "name": "python",
   "nbconvert_exporter": "python",
   "pygments_lexer": "ipython3",
   "version": "3.9.17"
  }
 },
 "nbformat": 4,
 "nbformat_minor": 5
}
